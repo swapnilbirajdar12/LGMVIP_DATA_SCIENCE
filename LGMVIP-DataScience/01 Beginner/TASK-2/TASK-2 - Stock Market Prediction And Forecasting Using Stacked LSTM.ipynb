{
 "cells": [
  {
   "cell_type": "markdown",
   "id": "dd111f25",
   "metadata": {},
   "source": [
    "# Let's Grow More(LGMVIP) - \"DATA SCIENCE INTERN\""
   ]
  },
  {
   "cell_type": "markdown",
   "id": "024ae109",
   "metadata": {},
   "source": [
    "## LGMVIP NOV-DEC 22"
   ]
  },
  {
   "cell_type": "markdown",
   "id": "955d22c7",
   "metadata": {},
   "source": [
    "## BEGINNER LEVEL TASK"
   ]
  },
  {
   "cell_type": "markdown",
   "id": "842b31c0",
   "metadata": {},
   "source": [
    "# TASK-2 - Stock Market Prediction And Forecasting Using Stacked LSTM"
   ]
  },
  {
   "cell_type": "markdown",
   "id": "f04d36ba",
   "metadata": {},
   "source": [
    "## Author : Swapnil Birajdar"
   ]
  },
  {
   "cell_type": "code",
   "execution_count": 1,
   "id": "a1b2c827",
   "metadata": {},
   "outputs": [],
   "source": [
    "#Importing Libraries\n",
    "import os\n",
    "import numpy as np\n",
    "import pandas as pd\n",
    "import matplotlib.pyplot as plt\n",
    "%matplotlib inline"
   ]
  },
  {
   "cell_type": "code",
   "execution_count": 2,
   "id": "b2f3c4cc",
   "metadata": {},
   "outputs": [],
   "source": [
    "dataset=pd.read_csv(\"https://raw.githubusercontent.com/mwitiderrick/stockprice/master/NSE-TATAGLOBAL.csv\")\n",
    "dataset=dataset.loc[::-1]"
   ]
  },
  {
   "cell_type": "code",
   "execution_count": 3,
   "id": "72616a58",
   "metadata": {},
   "outputs": [
    {
     "data": {
      "text/html": [
       "<div>\n",
       "<style scoped>\n",
       "    .dataframe tbody tr th:only-of-type {\n",
       "        vertical-align: middle;\n",
       "    }\n",
       "\n",
       "    .dataframe tbody tr th {\n",
       "        vertical-align: top;\n",
       "    }\n",
       "\n",
       "    .dataframe thead th {\n",
       "        text-align: right;\n",
       "    }\n",
       "</style>\n",
       "<table border=\"1\" class=\"dataframe\">\n",
       "  <thead>\n",
       "    <tr style=\"text-align: right;\">\n",
       "      <th></th>\n",
       "      <th>Date</th>\n",
       "      <th>Open</th>\n",
       "      <th>High</th>\n",
       "      <th>Low</th>\n",
       "      <th>Last</th>\n",
       "      <th>Close</th>\n",
       "      <th>Total Trade Quantity</th>\n",
       "      <th>Turnover (Lacs)</th>\n",
       "    </tr>\n",
       "  </thead>\n",
       "  <tbody>\n",
       "    <tr>\n",
       "      <th>2034</th>\n",
       "      <td>2010-07-21</td>\n",
       "      <td>122.1</td>\n",
       "      <td>123.00</td>\n",
       "      <td>121.05</td>\n",
       "      <td>121.10</td>\n",
       "      <td>121.55</td>\n",
       "      <td>658666</td>\n",
       "      <td>803.56</td>\n",
       "    </tr>\n",
       "    <tr>\n",
       "      <th>2033</th>\n",
       "      <td>2010-07-22</td>\n",
       "      <td>120.3</td>\n",
       "      <td>122.00</td>\n",
       "      <td>120.25</td>\n",
       "      <td>120.75</td>\n",
       "      <td>120.90</td>\n",
       "      <td>293312</td>\n",
       "      <td>355.17</td>\n",
       "    </tr>\n",
       "    <tr>\n",
       "      <th>2032</th>\n",
       "      <td>2010-07-23</td>\n",
       "      <td>121.8</td>\n",
       "      <td>121.95</td>\n",
       "      <td>120.25</td>\n",
       "      <td>120.35</td>\n",
       "      <td>120.65</td>\n",
       "      <td>281312</td>\n",
       "      <td>340.31</td>\n",
       "    </tr>\n",
       "    <tr>\n",
       "      <th>2031</th>\n",
       "      <td>2010-07-26</td>\n",
       "      <td>120.1</td>\n",
       "      <td>121.00</td>\n",
       "      <td>117.10</td>\n",
       "      <td>117.10</td>\n",
       "      <td>117.60</td>\n",
       "      <td>658440</td>\n",
       "      <td>780.01</td>\n",
       "    </tr>\n",
       "    <tr>\n",
       "      <th>2030</th>\n",
       "      <td>2010-07-27</td>\n",
       "      <td>117.6</td>\n",
       "      <td>119.50</td>\n",
       "      <td>112.00</td>\n",
       "      <td>118.80</td>\n",
       "      <td>118.65</td>\n",
       "      <td>586100</td>\n",
       "      <td>694.98</td>\n",
       "    </tr>\n",
       "  </tbody>\n",
       "</table>\n",
       "</div>"
      ],
      "text/plain": [
       "            Date   Open    High     Low    Last   Close  Total Trade Quantity  \\\n",
       "2034  2010-07-21  122.1  123.00  121.05  121.10  121.55                658666   \n",
       "2033  2010-07-22  120.3  122.00  120.25  120.75  120.90                293312   \n",
       "2032  2010-07-23  121.8  121.95  120.25  120.35  120.65                281312   \n",
       "2031  2010-07-26  120.1  121.00  117.10  117.10  117.60                658440   \n",
       "2030  2010-07-27  117.6  119.50  112.00  118.80  118.65                586100   \n",
       "\n",
       "      Turnover (Lacs)  \n",
       "2034           803.56  \n",
       "2033           355.17  \n",
       "2032           340.31  \n",
       "2031           780.01  \n",
       "2030           694.98  "
      ]
     },
     "execution_count": 3,
     "metadata": {},
     "output_type": "execute_result"
    }
   ],
   "source": [
    "dataset.head()"
   ]
  },
  {
   "cell_type": "code",
   "execution_count": 4,
   "id": "5781f618",
   "metadata": {},
   "outputs": [
    {
     "name": "stdout",
     "output_type": "stream",
     "text": [
      "[[122.1 ]\n",
      " [120.3 ]\n",
      " [121.8 ]\n",
      " ...\n",
      " [240.  ]\n",
      " [234.55]\n",
      " [234.05]]\n"
     ]
    }
   ],
   "source": [
    "train_set=dataset.iloc[:,1:2].values\n",
    "print(train_set)"
   ]
  },
  {
   "cell_type": "code",
   "execution_count": 5,
   "id": "fc8776dc",
   "metadata": {},
   "outputs": [
    {
     "data": {
      "text/plain": [
       "(2035, 1)"
      ]
     },
     "execution_count": 5,
     "metadata": {},
     "output_type": "execute_result"
    }
   ],
   "source": [
    "train_set.shape\n"
   ]
  },
  {
   "cell_type": "code",
   "execution_count": 6,
   "id": "3d500046",
   "metadata": {},
   "outputs": [
    {
     "data": {
      "text/plain": [
       "array([[0.16626115],\n",
       "       [0.15896188],\n",
       "       [0.16504461],\n",
       "       ...,\n",
       "       [0.64436334],\n",
       "       [0.62226277],\n",
       "       [0.6202352 ]])"
      ]
     },
     "execution_count": 6,
     "metadata": {},
     "output_type": "execute_result"
    }
   ],
   "source": [
    "from sklearn.preprocessing import MinMaxScaler\n",
    "scaler=MinMaxScaler(feature_range=(0,1))\n",
    "scaled_training_set=scaler.fit_transform(train_set)\n",
    "scaled_training_set"
   ]
  },
  {
   "cell_type": "code",
   "execution_count": 7,
   "id": "a06cd95c",
   "metadata": {},
   "outputs": [
    {
     "data": {
      "text/plain": [
       "Date                    0\n",
       "Open                    0\n",
       "High                    0\n",
       "Low                     0\n",
       "Last                    0\n",
       "Close                   0\n",
       "Total Trade Quantity    0\n",
       "Turnover (Lacs)         0\n",
       "dtype: int64"
      ]
     },
     "execution_count": 7,
     "metadata": {},
     "output_type": "execute_result"
    }
   ],
   "source": [
    "dataset.isnull().sum()"
   ]
  },
  {
   "cell_type": "code",
   "execution_count": 8,
   "id": "b43595ad",
   "metadata": {},
   "outputs": [
    {
     "data": {
      "image/png": "[encoded data removed]",
      "text/plain": [
       "<Figure size 640x480 with 1 Axes>"
      ]
     },
     "metadata": {},
     "output_type": "display_data"
    }
   ],
   "source": [
    "ds_high = dataset.reset_index()['High'] #reset the index back to the default 0, 1, 2 etc\n",
    "plt.plot(ds_high)\n",
    "plt.show()"
   ]
  },
  {
   "cell_type": "code",
   "execution_count": 9,
   "id": "1a78d885",
   "metadata": {},
   "outputs": [],
   "source": [
    "from sklearn.preprocessing import MinMaxScaler\n",
    "from sklearn.metrics import mean_squared_error\n",
    "\n",
    "sc = MinMaxScaler(feature_range= (0,1))\n",
    "ds_high = sc.fit_transform(np.array(ds_high).reshape(-1,1))"
   ]
  },
  {
   "cell_type": "code",
   "execution_count": 10,
   "id": "7c98e536",
   "metadata": {},
   "outputs": [],
   "source": [
    "train_size = int(len(ds_high)*0.75)\n",
    "test_size = len(ds_high)-train_size"
   ]
  },
  {
   "cell_type": "code",
   "execution_count": 11,
   "id": "8aecdee7",
   "metadata": {},
   "outputs": [],
   "source": [
    "train_data = ds_high[0:train_size,:]\n",
    "test_data = ds_high[train_size:len(ds_high),:1]"
   ]
  },
  {
   "cell_type": "code",
   "execution_count": 12,
   "id": "e96c7197",
   "metadata": {},
   "outputs": [],
   "source": [
    "def create_dataset(dataset, time_step = 1):\n",
    "    dataX, dataY = [], []\n",
    "    for i in range(len(dataset) - time_step - 1):\n",
    "        a = dataset[i:(i+time_step), 0]\n",
    "        dataX.append(a)\n",
    "        dataY.append(dataset[i+time_step, 0])\n",
    "    return np.array(dataX), np.array(dataY)"
   ]
  },
  {
   "cell_type": "code",
   "execution_count": 13,
   "id": "6a77238b",
   "metadata": {},
   "outputs": [],
   "source": [
    "\n",
    "time_step = 100\n",
    "x_train, y_train = create_dataset(train_data, time_step)\n",
    "x_test, y_test = create_dataset(test_data, time_step)"
   ]
  },
  {
   "cell_type": "code",
   "execution_count": 14,
   "id": "695ddf71",
   "metadata": {},
   "outputs": [
    {
     "name": "stdout",
     "output_type": "stream",
     "text": [
      "X train shape: (1425, 100, 1)\n",
      "y train shape: (1425,)\n",
      "X test shape: (408, 100, 1)\n",
      "y test shape: (408,)\n"
     ]
    }
   ],
   "source": [
    "x_train = x_train.reshape(x_train.shape[0],x_train.shape[1],1)\n",
    "x_test = x_test.reshape(x_test.shape[0],x_test.shape[1],1)\n",
    "\n",
    "print(\"X train shape:\",x_train.shape)\n",
    "print(\"y train shape:\",y_train.shape)\n",
    "\n",
    "print(\"X test shape:\",x_test.shape)\n",
    "print(\"y test shape:\",y_test.shape)"
   ]
  },
  {
   "cell_type": "markdown",
   "id": "5d04701b",
   "metadata": {},
   "source": [
    "## Creating the LSTM model"
   ]
  },
  {
   "cell_type": "code",
   "execution_count": 17,
   "id": "3325b375",
   "metadata": {},
   "outputs": [],
   "source": [
    "from tensorflow.python.keras.models import Sequential\n",
    "from tensorflow.python.keras.layers import Dense,LSTM\n",
    "\n",
    "lstm = Sequential()\n",
    "lstm.add(LSTM(50, return_sequences = True,input_shape = (100,1)))\n",
    "lstm.add(LSTM(50,return_sequences = True))\n",
    "lstm.add(LSTM(50))\n",
    "\n",
    "lstm.add(Dense(1))\n",
    "lstm.compile(loss = \"mean_squared_error\",optimizer = \"adam\")"
   ]
  },
  {
   "cell_type": "code",
   "execution_count": 18,
   "id": "9e43ccdb",
   "metadata": {},
   "outputs": [
    {
     "name": "stdout",
     "output_type": "stream",
     "text": [
      "Model: \"sequential\"\n",
      "_________________________________________________________________\n",
      "Layer (type)                 Output Shape              Param #   \n",
      "=================================================================\n",
      "lstm (LSTM)                  (None, 100, 50)           10400     \n",
      "_________________________________________________________________\n",
      "lstm_1 (LSTM)                (None, 100, 50)           20200     \n",
      "_________________________________________________________________\n",
      "lstm_2 (LSTM)                (None, 50)                20200     \n",
      "_________________________________________________________________\n",
      "dense (Dense)                (None, 1)                 51        \n",
      "=================================================================\n",
      "Total params: 50,851\n",
      "Trainable params: 50,851\n",
      "Non-trainable params: 0\n",
      "_________________________________________________________________\n"
     ]
    }
   ],
   "source": [
    "lstm.summary()"
   ]
  },
  {
   "cell_type": "code",
   "execution_count": 19,
   "id": "05729dc2",
   "metadata": {},
   "outputs": [
    {
     "name": "stdout",
     "output_type": "stream",
     "text": [
      "Epoch 1/100\n",
      "23/23 [==============================] - 10s 182ms/step - loss: 0.0089 - val_loss: 0.0249\n",
      "Epoch 2/100\n",
      "23/23 [==============================] - 3s 142ms/step - loss: 0.0018 - val_loss: 0.0049\n",
      "Epoch 3/100\n",
      "23/23 [==============================] - 3s 138ms/step - loss: 8.1521e-04 - val_loss: 0.0031\n",
      "Epoch 4/100\n",
      "23/23 [==============================] - 3s 128ms/step - loss: 7.4311e-04 - val_loss: 0.0031\n",
      "Epoch 5/100\n",
      "23/23 [==============================] - 3s 132ms/step - loss: 7.2401e-04 - val_loss: 0.0030\n",
      "Epoch 6/100\n",
      "23/23 [==============================] - 3s 135ms/step - loss: 6.8825e-04 - val_loss: 0.0034\n",
      "Epoch 7/100\n",
      "23/23 [==============================] - 3s 137ms/step - loss: 6.6182e-04 - val_loss: 0.0025\n",
      "Epoch 8/100\n",
      "23/23 [==============================] - 3s 141ms/step - loss: 6.6523e-04 - val_loss: 0.0042\n",
      "Epoch 9/100\n",
      "23/23 [==============================] - 3s 141ms/step - loss: 6.2959e-04 - val_loss: 0.0026\n",
      "Epoch 10/100\n",
      "23/23 [==============================] - 3s 139ms/step - loss: 6.3265e-04 - val_loss: 0.0057\n",
      "Epoch 11/100\n",
      "23/23 [==============================] - 3s 140ms/step - loss: 6.0656e-04 - val_loss: 0.0027\n",
      "Epoch 12/100\n",
      "23/23 [==============================] - 3s 130ms/step - loss: 5.8070e-04 - val_loss: 0.0029\n",
      "Epoch 13/100\n",
      "23/23 [==============================] - 3s 138ms/step - loss: 5.6321e-04 - val_loss: 0.0042\n",
      "Epoch 14/100\n",
      "23/23 [==============================] - 3s 139ms/step - loss: 5.2459e-04 - val_loss: 0.0040\n",
      "Epoch 15/100\n",
      "23/23 [==============================] - 3s 133ms/step - loss: 5.1462e-04 - val_loss: 0.0068\n",
      "Epoch 16/100\n",
      "23/23 [==============================] - 3s 144ms/step - loss: 5.4968e-04 - val_loss: 0.0028\n",
      "Epoch 17/100\n",
      "23/23 [==============================] - 3s 134ms/step - loss: 5.6797e-04 - val_loss: 0.0094\n",
      "Epoch 18/100\n",
      "23/23 [==============================] - 3s 139ms/step - loss: 4.9741e-04 - val_loss: 0.0090\n",
      "Epoch 19/100\n",
      "23/23 [==============================] - 3s 134ms/step - loss: 4.7407e-04 - val_loss: 0.0040\n",
      "Epoch 20/100\n",
      "23/23 [==============================] - 3s 136ms/step - loss: 4.6525e-04 - val_loss: 0.0063\n",
      "Epoch 21/100\n",
      "23/23 [==============================] - 3s 135ms/step - loss: 4.3998e-04 - val_loss: 0.0054\n",
      "Epoch 22/100\n",
      "23/23 [==============================] - 3s 131ms/step - loss: 4.1553e-04 - val_loss: 0.0071\n",
      "Epoch 23/100\n",
      "23/23 [==============================] - 3s 136ms/step - loss: 4.5356e-04 - val_loss: 0.0027\n",
      "Epoch 24/100\n",
      "23/23 [==============================] - 3s 136ms/step - loss: 4.4751e-04 - val_loss: 0.0081\n",
      "Epoch 25/100\n",
      "23/23 [==============================] - 3s 136ms/step - loss: 4.0291e-04 - val_loss: 0.0035\n",
      "Epoch 26/100\n",
      "23/23 [==============================] - 3s 135ms/step - loss: 3.8041e-04 - val_loss: 0.0058\n",
      "Epoch 27/100\n",
      "23/23 [==============================] - 3s 138ms/step - loss: 3.5519e-04 - val_loss: 0.0061\n",
      "Epoch 28/100\n",
      "23/23 [==============================] - 3s 132ms/step - loss: 3.5163e-04 - val_loss: 0.0045\n",
      "Epoch 29/100\n",
      "23/23 [==============================] - 3s 129ms/step - loss: 3.3714e-04 - val_loss: 0.0060\n",
      "Epoch 30/100\n",
      "23/23 [==============================] - 3s 138ms/step - loss: 3.2976e-04 - val_loss: 0.0042\n",
      "Epoch 31/100\n",
      "23/23 [==============================] - 3s 137ms/step - loss: 3.1814e-04 - val_loss: 0.0045\n",
      "Epoch 32/100\n",
      "23/23 [==============================] - 3s 138ms/step - loss: 3.0267e-04 - val_loss: 0.0040\n",
      "Epoch 33/100\n",
      "23/23 [==============================] - 3s 137ms/step - loss: 3.0167e-04 - val_loss: 0.0029\n",
      "Epoch 34/100\n",
      "23/23 [==============================] - 3s 135ms/step - loss: 2.8444e-04 - val_loss: 0.0030\n",
      "Epoch 35/100\n",
      "23/23 [==============================] - 3s 135ms/step - loss: 2.7706e-04 - val_loss: 0.0020\n",
      "Epoch 36/100\n",
      "23/23 [==============================] - 3s 136ms/step - loss: 2.7662e-04 - val_loss: 0.0038\n",
      "Epoch 37/100\n",
      "23/23 [==============================] - 3s 137ms/step - loss: 2.6464e-04 - val_loss: 0.0059\n",
      "Epoch 38/100\n",
      "23/23 [==============================] - 3s 139ms/step - loss: 3.0301e-04 - val_loss: 0.0042\n",
      "Epoch 39/100\n",
      "23/23 [==============================] - 3s 141ms/step - loss: 2.6941e-04 - val_loss: 0.0038\n",
      "Epoch 40/100\n",
      "23/23 [==============================] - 3s 142ms/step - loss: 2.3607e-04 - val_loss: 0.0032\n",
      "Epoch 41/100\n",
      "23/23 [==============================] - 3s 142ms/step - loss: 2.2318e-04 - val_loss: 0.0015\n",
      "Epoch 42/100\n",
      "23/23 [==============================] - 3s 142ms/step - loss: 2.1823e-04 - val_loss: 0.0018\n",
      "Epoch 43/100\n",
      "23/23 [==============================] - 3s 141ms/step - loss: 2.1626e-04 - val_loss: 0.0018\n",
      "Epoch 44/100\n",
      "23/23 [==============================] - 3s 141ms/step - loss: 2.0945e-04 - val_loss: 0.0013\n",
      "Epoch 45/100\n",
      "23/23 [==============================] - 3s 141ms/step - loss: 2.0457e-04 - val_loss: 0.0018\n",
      "Epoch 46/100\n",
      "23/23 [==============================] - 3s 140ms/step - loss: 1.9721e-04 - val_loss: 0.0019\n",
      "Epoch 47/100\n",
      "23/23 [==============================] - 3s 142ms/step - loss: 1.8593e-04 - val_loss: 0.0027\n",
      "Epoch 48/100\n",
      "23/23 [==============================] - 3s 139ms/step - loss: 1.8455e-04 - val_loss: 0.0025\n",
      "Epoch 49/100\n",
      "23/23 [==============================] - 3s 135ms/step - loss: 1.9534e-04 - val_loss: 0.0016\n",
      "Epoch 50/100\n",
      "23/23 [==============================] - 3s 133ms/step - loss: 1.9234e-04 - val_loss: 0.0036\n",
      "Epoch 51/100\n",
      "23/23 [==============================] - 3s 133ms/step - loss: 1.8473e-04 - val_loss: 8.7549e-04\n",
      "Epoch 52/100\n",
      "23/23 [==============================] - 3s 136ms/step - loss: 1.6289e-04 - val_loss: 0.0022\n",
      "Epoch 53/100\n",
      "23/23 [==============================] - 3s 138ms/step - loss: 1.6233e-04 - val_loss: 0.0027\n",
      "Epoch 54/100\n",
      "23/23 [==============================] - 3s 143ms/step - loss: 1.6618e-04 - val_loss: 0.0015\n",
      "Epoch 55/100\n",
      "23/23 [==============================] - 3s 136ms/step - loss: 1.4925e-04 - val_loss: 0.0012\n",
      "Epoch 56/100\n",
      "23/23 [==============================] - 3s 136ms/step - loss: 1.5084e-04 - val_loss: 0.0018\n",
      "Epoch 57/100\n",
      "23/23 [==============================] - 3s 138ms/step - loss: 1.4726e-04 - val_loss: 7.0386e-04\n",
      "Epoch 58/100\n",
      "23/23 [==============================] - 3s 136ms/step - loss: 1.4243e-04 - val_loss: 0.0019\n",
      "Epoch 59/100\n",
      "23/23 [==============================] - 3s 132ms/step - loss: 1.4525e-04 - val_loss: 6.0955e-04\n",
      "Epoch 60/100\n",
      "23/23 [==============================] - 3s 141ms/step - loss: 1.3939e-04 - val_loss: 4.1521e-04\n",
      "Epoch 61/100\n",
      "23/23 [==============================] - 3s 140ms/step - loss: 1.6127e-04 - val_loss: 5.8779e-04\n",
      "Epoch 62/100\n",
      "23/23 [==============================] - 3s 142ms/step - loss: 1.5025e-04 - val_loss: 0.0010\n",
      "Epoch 63/100\n",
      "23/23 [==============================] - 3s 142ms/step - loss: 1.3088e-04 - val_loss: 0.0016\n",
      "Epoch 64/100\n",
      "23/23 [==============================] - 3s 141ms/step - loss: 1.2988e-04 - val_loss: 4.3244e-04\n",
      "Epoch 65/100\n",
      "23/23 [==============================] - 3s 143ms/step - loss: 1.8192e-04 - val_loss: 0.0026\n",
      "Epoch 66/100\n",
      "23/23 [==============================] - 3s 142ms/step - loss: 1.4220e-04 - val_loss: 7.7722e-04\n",
      "Epoch 67/100\n",
      "23/23 [==============================] - 3s 142ms/step - loss: 1.2525e-04 - val_loss: 4.3940e-04\n",
      "Epoch 68/100\n",
      "23/23 [==============================] - 3s 140ms/step - loss: 1.4356e-04 - val_loss: 0.0015\n",
      "Epoch 69/100\n",
      "23/23 [==============================] - 3s 141ms/step - loss: 1.2451e-04 - val_loss: 0.0011\n",
      "Epoch 70/100\n",
      "23/23 [==============================] - 3s 141ms/step - loss: 1.2452e-04 - val_loss: 8.0073e-04\n",
      "Epoch 71/100\n",
      "23/23 [==============================] - 3s 140ms/step - loss: 1.2347e-04 - val_loss: 8.3246e-04\n",
      "Epoch 72/100\n",
      "23/23 [==============================] - 3s 142ms/step - loss: 1.1708e-04 - val_loss: 0.0020\n",
      "Epoch 73/100\n",
      "23/23 [==============================] - 3s 143ms/step - loss: 1.3040e-04 - val_loss: 8.5220e-04\n",
      "Epoch 74/100\n",
      "23/23 [==============================] - 3s 142ms/step - loss: 1.2396e-04 - val_loss: 0.0010\n",
      "Epoch 75/100\n",
      "23/23 [==============================] - 3s 142ms/step - loss: 1.1329e-04 - val_loss: 3.9406e-04\n",
      "Epoch 76/100\n",
      "23/23 [==============================] - 3s 142ms/step - loss: 1.3460e-04 - val_loss: 8.2608e-04\n",
      "Epoch 77/100\n",
      "23/23 [==============================] - 3s 139ms/step - loss: 1.1406e-04 - val_loss: 8.4764e-04\n"
     ]
    },
    {
     "name": "stdout",
     "output_type": "stream",
     "text": [
      "Epoch 78/100\n",
      "23/23 [==============================] - 3s 142ms/step - loss: 1.1408e-04 - val_loss: 0.0013\n",
      "Epoch 79/100\n",
      "23/23 [==============================] - 3s 144ms/step - loss: 1.2883e-04 - val_loss: 6.4800e-04\n",
      "Epoch 80/100\n",
      "23/23 [==============================] - 3s 141ms/step - loss: 1.4399e-04 - val_loss: 4.0713e-04\n",
      "Epoch 81/100\n",
      "23/23 [==============================] - 3s 142ms/step - loss: 1.3284e-04 - val_loss: 0.0013\n",
      "Epoch 82/100\n",
      "23/23 [==============================] - 3s 143ms/step - loss: 1.2329e-04 - val_loss: 9.6424e-04\n",
      "Epoch 83/100\n",
      "23/23 [==============================] - 3s 141ms/step - loss: 1.2589e-04 - val_loss: 0.0012\n",
      "Epoch 84/100\n",
      "23/23 [==============================] - 3s 140ms/step - loss: 1.2989e-04 - val_loss: 4.5576e-04\n",
      "Epoch 85/100\n",
      "23/23 [==============================] - 3s 141ms/step - loss: 1.1224e-04 - val_loss: 0.0011\n",
      "Epoch 86/100\n",
      "23/23 [==============================] - 3s 141ms/step - loss: 1.1275e-04 - val_loss: 0.0011\n",
      "Epoch 87/100\n",
      "23/23 [==============================] - 3s 141ms/step - loss: 1.1136e-04 - val_loss: 7.2666e-04\n",
      "Epoch 88/100\n",
      "23/23 [==============================] - 3s 141ms/step - loss: 1.1779e-04 - val_loss: 5.7546e-04\n",
      "Epoch 89/100\n",
      "23/23 [==============================] - 3s 142ms/step - loss: 1.1428e-04 - val_loss: 6.8134e-04\n",
      "Epoch 90/100\n",
      "23/23 [==============================] - 3s 141ms/step - loss: 1.1441e-04 - val_loss: 6.3888e-04\n",
      "Epoch 91/100\n",
      "23/23 [==============================] - 3s 141ms/step - loss: 1.2530e-04 - val_loss: 0.0012\n",
      "Epoch 92/100\n",
      "23/23 [==============================] - 3s 137ms/step - loss: 1.1120e-04 - val_loss: 6.7348e-04\n",
      "Epoch 93/100\n",
      "23/23 [==============================] - 3s 140ms/step - loss: 1.2225e-04 - val_loss: 0.0012\n",
      "Epoch 94/100\n",
      "23/23 [==============================] - 3s 139ms/step - loss: 1.1997e-04 - val_loss: 6.5359e-04\n",
      "Epoch 95/100\n",
      "23/23 [==============================] - 3s 142ms/step - loss: 1.0953e-04 - val_loss: 0.0012\n",
      "Epoch 96/100\n",
      "23/23 [==============================] - 3s 143ms/step - loss: 1.1609e-04 - val_loss: 5.1238e-04\n",
      "Epoch 97/100\n",
      "23/23 [==============================] - 3s 142ms/step - loss: 1.0943e-04 - val_loss: 7.5005e-04\n",
      "Epoch 98/100\n",
      "23/23 [==============================] - 3s 142ms/step - loss: 1.1832e-04 - val_loss: 0.0011\n",
      "Epoch 99/100\n",
      "23/23 [==============================] - 3s 141ms/step - loss: 1.1012e-04 - val_loss: 0.0017\n",
      "Epoch 100/100\n",
      "23/23 [==============================] - 3s 142ms/step - loss: 1.4123e-04 - val_loss: 6.5813e-04\n"
     ]
    },
    {
     "data": {
      "text/plain": [
       "<tensorflow.python.keras.callbacks.History at 0x1e76faecbb0>"
      ]
     },
     "execution_count": 19,
     "metadata": {},
     "output_type": "execute_result"
    }
   ],
   "source": [
    "lstm.fit(x_train,y_train,validation_data = (x_test,y_test),epochs = 100,batch_size = 64,verbose = 1)"
   ]
  },
  {
   "cell_type": "code",
   "execution_count": 20,
   "id": "19f7f15e",
   "metadata": {},
   "outputs": [],
   "source": [
    "train_pred = lstm.predict(x_train)\n",
    "test_pred = lstm.predict(x_test)"
   ]
  },
  {
   "cell_type": "code",
   "execution_count": 21,
   "id": "45d76578",
   "metadata": {},
   "outputs": [],
   "source": [
    "train_pred = lstm.predict(x_train)\n",
    "test_pred = lstm.predict(x_test)"
   ]
  },
  {
   "cell_type": "code",
   "execution_count": 23,
   "id": "ff5eb8c0",
   "metadata": {},
   "outputs": [],
   "source": [
    "import math\n"
   ]
  },
  {
   "cell_type": "code",
   "execution_count": 26,
   "id": "722221c3",
   "metadata": {},
   "outputs": [
    {
     "data": {
      "text/plain": [
       "0.010468339566090598"
      ]
     },
     "execution_count": 26,
     "metadata": {},
     "output_type": "execute_result"
    }
   ],
   "source": [
    "math.sqrt(mean_squared_error(y_train,train_pred)) #RMSE performance metrics"
   ]
  },
  {
   "cell_type": "code",
   "execution_count": 27,
   "id": "82dde8ca",
   "metadata": {},
   "outputs": [
    {
     "data": {
      "text/plain": [
       "0.025654070163665263"
      ]
     },
     "execution_count": 27,
     "metadata": {},
     "output_type": "execute_result"
    }
   ],
   "source": [
    "math.sqrt(mean_squared_error(y_test,test_pred)) #RMSE test data"
   ]
  },
  {
   "cell_type": "markdown",
   "id": "8f0c9a65",
   "metadata": {},
   "source": [
    "## Plotting"
   ]
  },
  {
   "cell_type": "code",
   "execution_count": 28,
   "id": "16c63c00",
   "metadata": {},
   "outputs": [
    {
     "data": {
      "image/png": "[encoded data removed]",
      "text/plain": [
       "<Figure size 640x480 with 1 Axes>"
      ]
     },
     "metadata": {},
     "output_type": "display_data"
    },
    {
     "name": "stdout",
     "output_type": "stream",
     "text": [
      "Green : Predicted data\n",
      "Blue: Complete data\n",
      "Orange: Train data\n"
     ]
    }
   ],
   "source": [
    "#shift train prediction for plotting\n",
    "look_back = 100\n",
    "trainPredictPlot = np.empty_like(ds_high)\n",
    "trainPredictPlot[:,:] = np.nan\n",
    "trainPredictPlot[look_back : len(train_pred) + look_back,:] = train_pred\n",
    "\n",
    "#shift test prediction for plotting\n",
    "testPredictPlot = np.empty_like(ds_high)\n",
    "testPredictPlot[:,:] = np.nan\n",
    "testPredictPlot[len(train_pred) +  (look_back * 2)+1:len(ds_high) - 1, :] = test_pred\n",
    "\n",
    "#plot baseline and predictions\n",
    "plt.plot(sc.inverse_transform(ds_high))\n",
    "plt.plot(trainPredictPlot)\n",
    "plt.plot(testPredictPlot)\n",
    "plt.show()\n",
    "\n",
    "print(\"Green : Predicted data\")\n",
    "print(\"Blue: Complete data\")\n",
    "print(\"Orange: Train data\")"
   ]
  },
  {
   "cell_type": "code",
   "execution_count": 29,
   "id": "8586a2b4",
   "metadata": {},
   "outputs": [
    {
     "data": {
      "text/plain": [
       "(509, (408, 100, 1))"
      ]
     },
     "execution_count": 29,
     "metadata": {},
     "output_type": "execute_result"
    }
   ],
   "source": [
    "len(test_data),x_test.shape #predict the next 28 days stock price"
   ]
  },
  {
   "cell_type": "code",
   "execution_count": 30,
   "id": "a77c53eb",
   "metadata": {},
   "outputs": [
    {
     "data": {
      "text/plain": [
       "(1, 100)"
      ]
     },
     "execution_count": 30,
     "metadata": {},
     "output_type": "execute_result"
    }
   ],
   "source": [
    "x_input = test_data[409:].reshape(1,-1)\n",
    "x_input.shape"
   ]
  },
  {
   "cell_type": "code",
   "execution_count": 31,
   "id": "3e6378c6",
   "metadata": {},
   "outputs": [
    {
     "name": "stdout",
     "output_type": "stream",
     "text": [
      "[0.61633396]\n",
      "101\n",
      "1 day input [0.86013417 0.85464525 0.84448059 0.8072779  0.71843871 0.66192316\n",
      " 0.67696686 0.67554381 0.67310429 0.68428542 0.68936776 0.70217524\n",
      " 0.71803212 0.72941655 0.73144948 0.74486684 0.76926205 0.75991055\n",
      " 0.74242732 0.73958122 0.74771295 0.75991055 0.7584875  0.76621264\n",
      " 0.75462492 0.76316324 0.79670665 0.80585485 0.7889815  0.78003659\n",
      " 0.73978451 0.73002643 0.73490547 0.74872942 0.75991055 0.75462492\n",
      " 0.75401504 0.76174019 0.7737345  0.82008538 0.80585485 0.81154706\n",
      " 0.77434438 0.78633869 0.79284407 0.78328929 0.77109169 0.74385038\n",
      " 0.71193332 0.68733482 0.67818662 0.65257166 0.64301687 0.65643423\n",
      " 0.67656028 0.67371417 0.65114861 0.65521447 0.66761537 0.67838992\n",
      " 0.69993901 0.63122586 0.63508843 0.64098394 0.64545639 0.64118723\n",
      " 0.63854442 0.63081927 0.62472047 0.6330555  0.64728603 0.6574507\n",
      " 0.66761537 0.66720878 0.64159382 0.62776987 0.63651149 0.63630819\n",
      " 0.62980281 0.62817646 0.63813783 0.65358813 0.63183574 0.57653995\n",
      " 0.57816629 0.57613336 0.61943484 0.57979264 0.57288067 0.62573694\n",
      " 0.63102257 0.6361049  0.62776987 0.6269567  0.63590161 0.62594023\n",
      " 0.6391543  0.62614353 0.62268754 0.61633396]\n",
      "1 day output [[0.6020007]]\n",
      "2 day input [0.85464525 0.84448059 0.8072779  0.71843871 0.66192316 0.67696686\n",
      " 0.67554381 0.67310429 0.68428542 0.68936776 0.70217524 0.71803212\n",
      " 0.72941655 0.73144948 0.74486684 0.76926205 0.75991055 0.74242732\n",
      " 0.73958122 0.74771295 0.75991055 0.7584875  0.76621264 0.75462492\n",
      " 0.76316324 0.79670665 0.80585485 0.7889815  0.78003659 0.73978451\n",
      " 0.73002643 0.73490547 0.74872942 0.75991055 0.75462492 0.75401504\n",
      " 0.76174019 0.7737345  0.82008538 0.80585485 0.81154706 0.77434438\n",
      " 0.78633869 0.79284407 0.78328929 0.77109169 0.74385038 0.71193332\n",
      " 0.68733482 0.67818662 0.65257166 0.64301687 0.65643423 0.67656028\n",
      " 0.67371417 0.65114861 0.65521447 0.66761537 0.67838992 0.69993901\n",
      " 0.63122586 0.63508843 0.64098394 0.64545639 0.64118723 0.63854442\n",
      " 0.63081927 0.62472047 0.6330555  0.64728603 0.6574507  0.66761537\n",
      " 0.66720878 0.64159382 0.62776987 0.63651149 0.63630819 0.62980281\n",
      " 0.62817646 0.63813783 0.65358813 0.63183574 0.57653995 0.57816629\n",
      " 0.57613336 0.61943484 0.57979264 0.57288067 0.62573694 0.63102257\n",
      " 0.6361049  0.62776987 0.6269567  0.63590161 0.62594023 0.6391543\n",
      " 0.62614353 0.62268754 0.61633396 0.60200071]\n",
      "2 day output [[0.59012157]]\n",
      "3 day input [0.84448059 0.8072779  0.71843871 0.66192316 0.67696686 0.67554381\n",
      " 0.67310429 0.68428542 0.68936776 0.70217524 0.71803212 0.72941655\n",
      " 0.73144948 0.74486684 0.76926205 0.75991055 0.74242732 0.73958122\n",
      " 0.74771295 0.75991055 0.7584875  0.76621264 0.75462492 0.76316324\n",
      " 0.79670665 0.80585485 0.7889815  0.78003659 0.73978451 0.73002643\n",
      " 0.73490547 0.74872942 0.75991055 0.75462492 0.75401504 0.76174019\n",
      " 0.7737345  0.82008538 0.80585485 0.81154706 0.77434438 0.78633869\n",
      " 0.79284407 0.78328929 0.77109169 0.74385038 0.71193332 0.68733482\n",
      " 0.67818662 0.65257166 0.64301687 0.65643423 0.67656028 0.67371417\n",
      " 0.65114861 0.65521447 0.66761537 0.67838992 0.69993901 0.63122586\n",
      " 0.63508843 0.64098394 0.64545639 0.64118723 0.63854442 0.63081927\n",
      " 0.62472047 0.6330555  0.64728603 0.6574507  0.66761537 0.66720878\n",
      " 0.64159382 0.62776987 0.63651149 0.63630819 0.62980281 0.62817646\n",
      " 0.63813783 0.65358813 0.63183574 0.57653995 0.57816629 0.57613336\n",
      " 0.61943484 0.57979264 0.57288067 0.62573694 0.63102257 0.6361049\n",
      " 0.62776987 0.6269567  0.63590161 0.62594023 0.6391543  0.62614353\n",
      " 0.62268754 0.61633396 0.60200071 0.59012157]\n",
      "3 day output [[0.5814579]]\n",
      "4 day input [0.8072779  0.71843871 0.66192316 0.67696686 0.67554381 0.67310429\n",
      " 0.68428542 0.68936776 0.70217524 0.71803212 0.72941655 0.73144948\n",
      " 0.74486684 0.76926205 0.75991055 0.74242732 0.73958122 0.74771295\n",
      " 0.75991055 0.7584875  0.76621264 0.75462492 0.76316324 0.79670665\n",
      " 0.80585485 0.7889815  0.78003659 0.73978451 0.73002643 0.73490547\n",
      " 0.74872942 0.75991055 0.75462492 0.75401504 0.76174019 0.7737345\n",
      " 0.82008538 0.80585485 0.81154706 0.77434438 0.78633869 0.79284407\n",
      " 0.78328929 0.77109169 0.74385038 0.71193332 0.68733482 0.67818662\n",
      " 0.65257166 0.64301687 0.65643423 0.67656028 0.67371417 0.65114861\n",
      " 0.65521447 0.66761537 0.67838992 0.69993901 0.63122586 0.63508843\n",
      " 0.64098394 0.64545639 0.64118723 0.63854442 0.63081927 0.62472047\n",
      " 0.6330555  0.64728603 0.6574507  0.66761537 0.66720878 0.64159382\n",
      " 0.62776987 0.63651149 0.63630819 0.62980281 0.62817646 0.63813783\n",
      " 0.65358813 0.63183574 0.57653995 0.57816629 0.57613336 0.61943484\n",
      " 0.57979264 0.57288067 0.62573694 0.63102257 0.6361049  0.62776987\n",
      " 0.6269567  0.63590161 0.62594023 0.6391543  0.62614353 0.62268754\n",
      " 0.61633396 0.60200071 0.59012157 0.58145791]\n",
      "4 day output [[0.57438916]]\n",
      "5 day input [0.71843871 0.66192316 0.67696686 0.67554381 0.67310429 0.68428542\n",
      " 0.68936776 0.70217524 0.71803212 0.72941655 0.73144948 0.74486684\n",
      " 0.76926205 0.75991055 0.74242732 0.73958122 0.74771295 0.75991055\n",
      " 0.7584875  0.76621264 0.75462492 0.76316324 0.79670665 0.80585485\n",
      " 0.7889815  0.78003659 0.73978451 0.73002643 0.73490547 0.74872942\n",
      " 0.75991055 0.75462492 0.75401504 0.76174019 0.7737345  0.82008538\n",
      " 0.80585485 0.81154706 0.77434438 0.78633869 0.79284407 0.78328929\n",
      " 0.77109169 0.74385038 0.71193332 0.68733482 0.67818662 0.65257166\n",
      " 0.64301687 0.65643423 0.67656028 0.67371417 0.65114861 0.65521447\n",
      " 0.66761537 0.67838992 0.69993901 0.63122586 0.63508843 0.64098394\n",
      " 0.64545639 0.64118723 0.63854442 0.63081927 0.62472047 0.6330555\n",
      " 0.64728603 0.6574507  0.66761537 0.66720878 0.64159382 0.62776987\n",
      " 0.63651149 0.63630819 0.62980281 0.62817646 0.63813783 0.65358813\n",
      " 0.63183574 0.57653995 0.57816629 0.57613336 0.61943484 0.57979264\n",
      " 0.57288067 0.62573694 0.63102257 0.6361049  0.62776987 0.6269567\n",
      " 0.63590161 0.62594023 0.6391543  0.62614353 0.62268754 0.61633396\n",
      " 0.60200071 0.59012157 0.58145791 0.57438916]\n",
      "5 day output [[0.56804675]]\n",
      "6 day input [0.66192316 0.67696686 0.67554381 0.67310429 0.68428542 0.68936776\n",
      " 0.70217524 0.71803212 0.72941655 0.73144948 0.74486684 0.76926205\n",
      " 0.75991055 0.74242732 0.73958122 0.74771295 0.75991055 0.7584875\n",
      " 0.76621264 0.75462492 0.76316324 0.79670665 0.80585485 0.7889815\n",
      " 0.78003659 0.73978451 0.73002643 0.73490547 0.74872942 0.75991055\n",
      " 0.75462492 0.75401504 0.76174019 0.7737345  0.82008538 0.80585485\n",
      " 0.81154706 0.77434438 0.78633869 0.79284407 0.78328929 0.77109169\n",
      " 0.74385038 0.71193332 0.68733482 0.67818662 0.65257166 0.64301687\n",
      " 0.65643423 0.67656028 0.67371417 0.65114861 0.65521447 0.66761537\n",
      " 0.67838992 0.69993901 0.63122586 0.63508843 0.64098394 0.64545639\n",
      " 0.64118723 0.63854442 0.63081927 0.62472047 0.6330555  0.64728603\n",
      " 0.6574507  0.66761537 0.66720878 0.64159382 0.62776987 0.63651149\n",
      " 0.63630819 0.62980281 0.62817646 0.63813783 0.65358813 0.63183574\n",
      " 0.57653995 0.57816629 0.57613336 0.61943484 0.57979264 0.57288067\n",
      " 0.62573694 0.63102257 0.6361049  0.62776987 0.6269567  0.63590161\n",
      " 0.62594023 0.6391543  0.62614353 0.62268754 0.61633396 0.60200071\n",
      " 0.59012157 0.58145791 0.57438916 0.56804675]\n",
      "6 day output [[0.5621047]]\n",
      "7 day input [0.67696686 0.67554381 0.67310429 0.68428542 0.68936776 0.70217524\n",
      " 0.71803212 0.72941655 0.73144948 0.74486684 0.76926205 0.75991055\n",
      " 0.74242732 0.73958122 0.74771295 0.75991055 0.7584875  0.76621264\n",
      " 0.75462492 0.76316324 0.79670665 0.80585485 0.7889815  0.78003659\n",
      " 0.73978451 0.73002643 0.73490547 0.74872942 0.75991055 0.75462492\n",
      " 0.75401504 0.76174019 0.7737345  0.82008538 0.80585485 0.81154706\n",
      " 0.77434438 0.78633869 0.79284407 0.78328929 0.77109169 0.74385038\n",
      " 0.71193332 0.68733482 0.67818662 0.65257166 0.64301687 0.65643423\n",
      " 0.67656028 0.67371417 0.65114861 0.65521447 0.66761537 0.67838992\n",
      " 0.69993901 0.63122586 0.63508843 0.64098394 0.64545639 0.64118723\n",
      " 0.63854442 0.63081927 0.62472047 0.6330555  0.64728603 0.6574507\n",
      " 0.66761537 0.66720878 0.64159382 0.62776987 0.63651149 0.63630819\n",
      " 0.62980281 0.62817646 0.63813783 0.65358813 0.63183574 0.57653995\n",
      " 0.57816629 0.57613336 0.61943484 0.57979264 0.57288067 0.62573694\n",
      " 0.63102257 0.6361049  0.62776987 0.6269567  0.63590161 0.62594023\n",
      " 0.6391543  0.62614353 0.62268754 0.61633396 0.60200071 0.59012157\n",
      " 0.58145791 0.57438916 0.56804675 0.5621047 ]\n",
      "7 day output [[0.556435]]\n",
      "8 day input [0.67554381 0.67310429 0.68428542 0.68936776 0.70217524 0.71803212\n",
      " 0.72941655 0.73144948 0.74486684 0.76926205 0.75991055 0.74242732\n",
      " 0.73958122 0.74771295 0.75991055 0.7584875  0.76621264 0.75462492\n",
      " 0.76316324 0.79670665 0.80585485 0.7889815  0.78003659 0.73978451\n",
      " 0.73002643 0.73490547 0.74872942 0.75991055 0.75462492 0.75401504\n",
      " 0.76174019 0.7737345  0.82008538 0.80585485 0.81154706 0.77434438\n",
      " 0.78633869 0.79284407 0.78328929 0.77109169 0.74385038 0.71193332\n",
      " 0.68733482 0.67818662 0.65257166 0.64301687 0.65643423 0.67656028\n",
      " 0.67371417 0.65114861 0.65521447 0.66761537 0.67838992 0.69993901\n",
      " 0.63122586 0.63508843 0.64098394 0.64545639 0.64118723 0.63854442\n",
      " 0.63081927 0.62472047 0.6330555  0.64728603 0.6574507  0.66761537\n",
      " 0.66720878 0.64159382 0.62776987 0.63651149 0.63630819 0.62980281\n",
      " 0.62817646 0.63813783 0.65358813 0.63183574 0.57653995 0.57816629\n",
      " 0.57613336 0.61943484 0.57979264 0.57288067 0.62573694 0.63102257\n",
      " 0.6361049  0.62776987 0.6269567  0.63590161 0.62594023 0.6391543\n",
      " 0.62614353 0.62268754 0.61633396 0.60200071 0.59012157 0.58145791\n",
      " 0.57438916 0.56804675 0.5621047  0.55643499]\n"
     ]
    },
    {
     "name": "stdout",
     "output_type": "stream",
     "text": [
      "8 day output [[0.55100787]]\n",
      "9 day input [0.67310429 0.68428542 0.68936776 0.70217524 0.71803212 0.72941655\n",
      " 0.73144948 0.74486684 0.76926205 0.75991055 0.74242732 0.73958122\n",
      " 0.74771295 0.75991055 0.7584875  0.76621264 0.75462492 0.76316324\n",
      " 0.79670665 0.80585485 0.7889815  0.78003659 0.73978451 0.73002643\n",
      " 0.73490547 0.74872942 0.75991055 0.75462492 0.75401504 0.76174019\n",
      " 0.7737345  0.82008538 0.80585485 0.81154706 0.77434438 0.78633869\n",
      " 0.79284407 0.78328929 0.77109169 0.74385038 0.71193332 0.68733482\n",
      " 0.67818662 0.65257166 0.64301687 0.65643423 0.67656028 0.67371417\n",
      " 0.65114861 0.65521447 0.66761537 0.67838992 0.69993901 0.63122586\n",
      " 0.63508843 0.64098394 0.64545639 0.64118723 0.63854442 0.63081927\n",
      " 0.62472047 0.6330555  0.64728603 0.6574507  0.66761537 0.66720878\n",
      " 0.64159382 0.62776987 0.63651149 0.63630819 0.62980281 0.62817646\n",
      " 0.63813783 0.65358813 0.63183574 0.57653995 0.57816629 0.57613336\n",
      " 0.61943484 0.57979264 0.57288067 0.62573694 0.63102257 0.6361049\n",
      " 0.62776987 0.6269567  0.63590161 0.62594023 0.6391543  0.62614353\n",
      " 0.62268754 0.61633396 0.60200071 0.59012157 0.58145791 0.57438916\n",
      " 0.56804675 0.5621047  0.55643499 0.55100787]\n",
      "9 day output [[0.5458311]]\n",
      "10 day input [0.68428542 0.68936776 0.70217524 0.71803212 0.72941655 0.73144948\n",
      " 0.74486684 0.76926205 0.75991055 0.74242732 0.73958122 0.74771295\n",
      " 0.75991055 0.7584875  0.76621264 0.75462492 0.76316324 0.79670665\n",
      " 0.80585485 0.7889815  0.78003659 0.73978451 0.73002643 0.73490547\n",
      " 0.74872942 0.75991055 0.75462492 0.75401504 0.76174019 0.7737345\n",
      " 0.82008538 0.80585485 0.81154706 0.77434438 0.78633869 0.79284407\n",
      " 0.78328929 0.77109169 0.74385038 0.71193332 0.68733482 0.67818662\n",
      " 0.65257166 0.64301687 0.65643423 0.67656028 0.67371417 0.65114861\n",
      " 0.65521447 0.66761537 0.67838992 0.69993901 0.63122586 0.63508843\n",
      " 0.64098394 0.64545639 0.64118723 0.63854442 0.63081927 0.62472047\n",
      " 0.6330555  0.64728603 0.6574507  0.66761537 0.66720878 0.64159382\n",
      " 0.62776987 0.63651149 0.63630819 0.62980281 0.62817646 0.63813783\n",
      " 0.65358813 0.63183574 0.57653995 0.57816629 0.57613336 0.61943484\n",
      " 0.57979264 0.57288067 0.62573694 0.63102257 0.6361049  0.62776987\n",
      " 0.6269567  0.63590161 0.62594023 0.6391543  0.62614353 0.62268754\n",
      " 0.61633396 0.60200071 0.59012157 0.58145791 0.57438916 0.56804675\n",
      " 0.5621047  0.55643499 0.55100787 0.54583108]\n",
      "10 day output [[0.54091585]]\n",
      "11 day input [0.68936776 0.70217524 0.71803212 0.72941655 0.73144948 0.74486684\n",
      " 0.76926205 0.75991055 0.74242732 0.73958122 0.74771295 0.75991055\n",
      " 0.7584875  0.76621264 0.75462492 0.76316324 0.79670665 0.80585485\n",
      " 0.7889815  0.78003659 0.73978451 0.73002643 0.73490547 0.74872942\n",
      " 0.75991055 0.75462492 0.75401504 0.76174019 0.7737345  0.82008538\n",
      " 0.80585485 0.81154706 0.77434438 0.78633869 0.79284407 0.78328929\n",
      " 0.77109169 0.74385038 0.71193332 0.68733482 0.67818662 0.65257166\n",
      " 0.64301687 0.65643423 0.67656028 0.67371417 0.65114861 0.65521447\n",
      " 0.66761537 0.67838992 0.69993901 0.63122586 0.63508843 0.64098394\n",
      " 0.64545639 0.64118723 0.63854442 0.63081927 0.62472047 0.6330555\n",
      " 0.64728603 0.6574507  0.66761537 0.66720878 0.64159382 0.62776987\n",
      " 0.63651149 0.63630819 0.62980281 0.62817646 0.63813783 0.65358813\n",
      " 0.63183574 0.57653995 0.57816629 0.57613336 0.61943484 0.57979264\n",
      " 0.57288067 0.62573694 0.63102257 0.6361049  0.62776987 0.6269567\n",
      " 0.63590161 0.62594023 0.6391543  0.62614353 0.62268754 0.61633396\n",
      " 0.60200071 0.59012157 0.58145791 0.57438916 0.56804675 0.5621047\n",
      " 0.55643499 0.55100787 0.54583108 0.54091585]\n",
      "11 day output [[0.5361686]]\n",
      "12 day input [0.70217524 0.71803212 0.72941655 0.73144948 0.74486684 0.76926205\n",
      " 0.75991055 0.74242732 0.73958122 0.74771295 0.75991055 0.7584875\n",
      " 0.76621264 0.75462492 0.76316324 0.79670665 0.80585485 0.7889815\n",
      " 0.78003659 0.73978451 0.73002643 0.73490547 0.74872942 0.75991055\n",
      " 0.75462492 0.75401504 0.76174019 0.7737345  0.82008538 0.80585485\n",
      " 0.81154706 0.77434438 0.78633869 0.79284407 0.78328929 0.77109169\n",
      " 0.74385038 0.71193332 0.68733482 0.67818662 0.65257166 0.64301687\n",
      " 0.65643423 0.67656028 0.67371417 0.65114861 0.65521447 0.66761537\n",
      " 0.67838992 0.69993901 0.63122586 0.63508843 0.64098394 0.64545639\n",
      " 0.64118723 0.63854442 0.63081927 0.62472047 0.6330555  0.64728603\n",
      " 0.6574507  0.66761537 0.66720878 0.64159382 0.62776987 0.63651149\n",
      " 0.63630819 0.62980281 0.62817646 0.63813783 0.65358813 0.63183574\n",
      " 0.57653995 0.57816629 0.57613336 0.61943484 0.57979264 0.57288067\n",
      " 0.62573694 0.63102257 0.6361049  0.62776987 0.6269567  0.63590161\n",
      " 0.62594023 0.6391543  0.62614353 0.62268754 0.61633396 0.60200071\n",
      " 0.59012157 0.58145791 0.57438916 0.56804675 0.5621047  0.55643499\n",
      " 0.55100787 0.54583108 0.54091585 0.53616858]\n",
      "12 day output [[0.53141874]]\n",
      "13 day input [0.71803212 0.72941655 0.73144948 0.74486684 0.76926205 0.75991055\n",
      " 0.74242732 0.73958122 0.74771295 0.75991055 0.7584875  0.76621264\n",
      " 0.75462492 0.76316324 0.79670665 0.80585485 0.7889815  0.78003659\n",
      " 0.73978451 0.73002643 0.73490547 0.74872942 0.75991055 0.75462492\n",
      " 0.75401504 0.76174019 0.7737345  0.82008538 0.80585485 0.81154706\n",
      " 0.77434438 0.78633869 0.79284407 0.78328929 0.77109169 0.74385038\n",
      " 0.71193332 0.68733482 0.67818662 0.65257166 0.64301687 0.65643423\n",
      " 0.67656028 0.67371417 0.65114861 0.65521447 0.66761537 0.67838992\n",
      " 0.69993901 0.63122586 0.63508843 0.64098394 0.64545639 0.64118723\n",
      " 0.63854442 0.63081927 0.62472047 0.6330555  0.64728603 0.6574507\n",
      " 0.66761537 0.66720878 0.64159382 0.62776987 0.63651149 0.63630819\n",
      " 0.62980281 0.62817646 0.63813783 0.65358813 0.63183574 0.57653995\n",
      " 0.57816629 0.57613336 0.61943484 0.57979264 0.57288067 0.62573694\n",
      " 0.63102257 0.6361049  0.62776987 0.6269567  0.63590161 0.62594023\n",
      " 0.6391543  0.62614353 0.62268754 0.61633396 0.60200071 0.59012157\n",
      " 0.58145791 0.57438916 0.56804675 0.5621047  0.55643499 0.55100787\n",
      " 0.54583108 0.54091585 0.53616858 0.53141874]\n",
      "13 day output [[0.5267109]]\n",
      "14 day input [0.72941655 0.73144948 0.74486684 0.76926205 0.75991055 0.74242732\n",
      " 0.73958122 0.74771295 0.75991055 0.7584875  0.76621264 0.75462492\n",
      " 0.76316324 0.79670665 0.80585485 0.7889815  0.78003659 0.73978451\n",
      " 0.73002643 0.73490547 0.74872942 0.75991055 0.75462492 0.75401504\n",
      " 0.76174019 0.7737345  0.82008538 0.80585485 0.81154706 0.77434438\n",
      " 0.78633869 0.79284407 0.78328929 0.77109169 0.74385038 0.71193332\n",
      " 0.68733482 0.67818662 0.65257166 0.64301687 0.65643423 0.67656028\n",
      " 0.67371417 0.65114861 0.65521447 0.66761537 0.67838992 0.69993901\n",
      " 0.63122586 0.63508843 0.64098394 0.64545639 0.64118723 0.63854442\n",
      " 0.63081927 0.62472047 0.6330555  0.64728603 0.6574507  0.66761537\n",
      " 0.66720878 0.64159382 0.62776987 0.63651149 0.63630819 0.62980281\n",
      " 0.62817646 0.63813783 0.65358813 0.63183574 0.57653995 0.57816629\n",
      " 0.57613336 0.61943484 0.57979264 0.57288067 0.62573694 0.63102257\n",
      " 0.6361049  0.62776987 0.6269567  0.63590161 0.62594023 0.6391543\n",
      " 0.62614353 0.62268754 0.61633396 0.60200071 0.59012157 0.58145791\n",
      " 0.57438916 0.56804675 0.5621047  0.55643499 0.55100787 0.54583108\n",
      " 0.54091585 0.53616858 0.53141874 0.52671093]\n",
      "14 day output [[0.52212894]]\n",
      "15 day input [0.73144948 0.74486684 0.76926205 0.75991055 0.74242732 0.73958122\n",
      " 0.74771295 0.75991055 0.7584875  0.76621264 0.75462492 0.76316324\n",
      " 0.79670665 0.80585485 0.7889815  0.78003659 0.73978451 0.73002643\n",
      " 0.73490547 0.74872942 0.75991055 0.75462492 0.75401504 0.76174019\n",
      " 0.7737345  0.82008538 0.80585485 0.81154706 0.77434438 0.78633869\n",
      " 0.79284407 0.78328929 0.77109169 0.74385038 0.71193332 0.68733482\n",
      " 0.67818662 0.65257166 0.64301687 0.65643423 0.67656028 0.67371417\n",
      " 0.65114861 0.65521447 0.66761537 0.67838992 0.69993901 0.63122586\n",
      " 0.63508843 0.64098394 0.64545639 0.64118723 0.63854442 0.63081927\n",
      " 0.62472047 0.6330555  0.64728603 0.6574507  0.66761537 0.66720878\n",
      " 0.64159382 0.62776987 0.63651149 0.63630819 0.62980281 0.62817646\n",
      " 0.63813783 0.65358813 0.63183574 0.57653995 0.57816629 0.57613336\n",
      " 0.61943484 0.57979264 0.57288067 0.62573694 0.63102257 0.6361049\n",
      " 0.62776987 0.6269567  0.63590161 0.62594023 0.6391543  0.62614353\n",
      " 0.62268754 0.61633396 0.60200071 0.59012157 0.58145791 0.57438916\n",
      " 0.56804675 0.5621047  0.55643499 0.55100787 0.54583108 0.54091585\n",
      " 0.53616858 0.53141874 0.52671093 0.52212894]\n",
      "15 day output [[0.51772195]]\n",
      "16 day input [0.74486684 0.76926205 0.75991055 0.74242732 0.73958122 0.74771295\n",
      " 0.75991055 0.7584875  0.76621264 0.75462492 0.76316324 0.79670665\n",
      " 0.80585485 0.7889815  0.78003659 0.73978451 0.73002643 0.73490547\n",
      " 0.74872942 0.75991055 0.75462492 0.75401504 0.76174019 0.7737345\n",
      " 0.82008538 0.80585485 0.81154706 0.77434438 0.78633869 0.79284407\n",
      " 0.78328929 0.77109169 0.74385038 0.71193332 0.68733482 0.67818662\n",
      " 0.65257166 0.64301687 0.65643423 0.67656028 0.67371417 0.65114861\n",
      " 0.65521447 0.66761537 0.67838992 0.69993901 0.63122586 0.63508843\n",
      " 0.64098394 0.64545639 0.64118723 0.63854442 0.63081927 0.62472047\n",
      " 0.6330555  0.64728603 0.6574507  0.66761537 0.66720878 0.64159382\n",
      " 0.62776987 0.63651149 0.63630819 0.62980281 0.62817646 0.63813783\n",
      " 0.65358813 0.63183574 0.57653995 0.57816629 0.57613336 0.61943484\n",
      " 0.57979264 0.57288067 0.62573694 0.63102257 0.6361049  0.62776987\n",
      " 0.6269567  0.63590161 0.62594023 0.6391543  0.62614353 0.62268754\n",
      " 0.61633396 0.60200071 0.59012157 0.58145791 0.57438916 0.56804675\n",
      " 0.5621047  0.55643499 0.55100787 0.54583108 0.54091585 0.53616858\n",
      " 0.53141874 0.52671093 0.52212894 0.51772195]\n"
     ]
    },
    {
     "name": "stdout",
     "output_type": "stream",
     "text": [
      "16 day output [[0.51350945]]\n",
      "17 day input [0.76926205 0.75991055 0.74242732 0.73958122 0.74771295 0.75991055\n",
      " 0.7584875  0.76621264 0.75462492 0.76316324 0.79670665 0.80585485\n",
      " 0.7889815  0.78003659 0.73978451 0.73002643 0.73490547 0.74872942\n",
      " 0.75991055 0.75462492 0.75401504 0.76174019 0.7737345  0.82008538\n",
      " 0.80585485 0.81154706 0.77434438 0.78633869 0.79284407 0.78328929\n",
      " 0.77109169 0.74385038 0.71193332 0.68733482 0.67818662 0.65257166\n",
      " 0.64301687 0.65643423 0.67656028 0.67371417 0.65114861 0.65521447\n",
      " 0.66761537 0.67838992 0.69993901 0.63122586 0.63508843 0.64098394\n",
      " 0.64545639 0.64118723 0.63854442 0.63081927 0.62472047 0.6330555\n",
      " 0.64728603 0.6574507  0.66761537 0.66720878 0.64159382 0.62776987\n",
      " 0.63651149 0.63630819 0.62980281 0.62817646 0.63813783 0.65358813\n",
      " 0.63183574 0.57653995 0.57816629 0.57613336 0.61943484 0.57979264\n",
      " 0.57288067 0.62573694 0.63102257 0.6361049  0.62776987 0.6269567\n",
      " 0.63590161 0.62594023 0.6391543  0.62614353 0.62268754 0.61633396\n",
      " 0.60200071 0.59012157 0.58145791 0.57438916 0.56804675 0.5621047\n",
      " 0.55643499 0.55100787 0.54583108 0.54091585 0.53616858 0.53141874\n",
      " 0.52671093 0.52212894 0.51772195 0.51350945]\n",
      "17 day output [[0.50949275]]\n",
      "18 day input [0.75991055 0.74242732 0.73958122 0.74771295 0.75991055 0.7584875\n",
      " 0.76621264 0.75462492 0.76316324 0.79670665 0.80585485 0.7889815\n",
      " 0.78003659 0.73978451 0.73002643 0.73490547 0.74872942 0.75991055\n",
      " 0.75462492 0.75401504 0.76174019 0.7737345  0.82008538 0.80585485\n",
      " 0.81154706 0.77434438 0.78633869 0.79284407 0.78328929 0.77109169\n",
      " 0.74385038 0.71193332 0.68733482 0.67818662 0.65257166 0.64301687\n",
      " 0.65643423 0.67656028 0.67371417 0.65114861 0.65521447 0.66761537\n",
      " 0.67838992 0.69993901 0.63122586 0.63508843 0.64098394 0.64545639\n",
      " 0.64118723 0.63854442 0.63081927 0.62472047 0.6330555  0.64728603\n",
      " 0.6574507  0.66761537 0.66720878 0.64159382 0.62776987 0.63651149\n",
      " 0.63630819 0.62980281 0.62817646 0.63813783 0.65358813 0.63183574\n",
      " 0.57653995 0.57816629 0.57613336 0.61943484 0.57979264 0.57288067\n",
      " 0.62573694 0.63102257 0.6361049  0.62776987 0.6269567  0.63590161\n",
      " 0.62594023 0.6391543  0.62614353 0.62268754 0.61633396 0.60200071\n",
      " 0.59012157 0.58145791 0.57438916 0.56804675 0.5621047  0.55643499\n",
      " 0.55100787 0.54583108 0.54091585 0.53616858 0.53141874 0.52671093\n",
      " 0.52212894 0.51772195 0.51350945 0.50949275]\n",
      "18 day output [[0.5056628]]\n",
      "19 day input [0.74242732 0.73958122 0.74771295 0.75991055 0.7584875  0.76621264\n",
      " 0.75462492 0.76316324 0.79670665 0.80585485 0.7889815  0.78003659\n",
      " 0.73978451 0.73002643 0.73490547 0.74872942 0.75991055 0.75462492\n",
      " 0.75401504 0.76174019 0.7737345  0.82008538 0.80585485 0.81154706\n",
      " 0.77434438 0.78633869 0.79284407 0.78328929 0.77109169 0.74385038\n",
      " 0.71193332 0.68733482 0.67818662 0.65257166 0.64301687 0.65643423\n",
      " 0.67656028 0.67371417 0.65114861 0.65521447 0.66761537 0.67838992\n",
      " 0.69993901 0.63122586 0.63508843 0.64098394 0.64545639 0.64118723\n",
      " 0.63854442 0.63081927 0.62472047 0.6330555  0.64728603 0.6574507\n",
      " 0.66761537 0.66720878 0.64159382 0.62776987 0.63651149 0.63630819\n",
      " 0.62980281 0.62817646 0.63813783 0.65358813 0.63183574 0.57653995\n",
      " 0.57816629 0.57613336 0.61943484 0.57979264 0.57288067 0.62573694\n",
      " 0.63102257 0.6361049  0.62776987 0.6269567  0.63590161 0.62594023\n",
      " 0.6391543  0.62614353 0.62268754 0.61633396 0.60200071 0.59012157\n",
      " 0.58145791 0.57438916 0.56804675 0.5621047  0.55643499 0.55100787\n",
      " 0.54583108 0.54091585 0.53616858 0.53141874 0.52671093 0.52212894\n",
      " 0.51772195 0.51350945 0.50949275 0.5056628 ]\n",
      "19 day output [[0.5020082]]\n",
      "20 day input [0.73958122 0.74771295 0.75991055 0.7584875  0.76621264 0.75462492\n",
      " 0.76316324 0.79670665 0.80585485 0.7889815  0.78003659 0.73978451\n",
      " 0.73002643 0.73490547 0.74872942 0.75991055 0.75462492 0.75401504\n",
      " 0.76174019 0.7737345  0.82008538 0.80585485 0.81154706 0.77434438\n",
      " 0.78633869 0.79284407 0.78328929 0.77109169 0.74385038 0.71193332\n",
      " 0.68733482 0.67818662 0.65257166 0.64301687 0.65643423 0.67656028\n",
      " 0.67371417 0.65114861 0.65521447 0.66761537 0.67838992 0.69993901\n",
      " 0.63122586 0.63508843 0.64098394 0.64545639 0.64118723 0.63854442\n",
      " 0.63081927 0.62472047 0.6330555  0.64728603 0.6574507  0.66761537\n",
      " 0.66720878 0.64159382 0.62776987 0.63651149 0.63630819 0.62980281\n",
      " 0.62817646 0.63813783 0.65358813 0.63183574 0.57653995 0.57816629\n",
      " 0.57613336 0.61943484 0.57979264 0.57288067 0.62573694 0.63102257\n",
      " 0.6361049  0.62776987 0.6269567  0.63590161 0.62594023 0.6391543\n",
      " 0.62614353 0.62268754 0.61633396 0.60200071 0.59012157 0.58145791\n",
      " 0.57438916 0.56804675 0.5621047  0.55643499 0.55100787 0.54583108\n",
      " 0.54091585 0.53616858 0.53141874 0.52671093 0.52212894 0.51772195\n",
      " 0.51350945 0.50949275 0.5056628  0.5020082 ]\n",
      "20 day output [[0.49843878]]\n",
      "21 day input [0.74771295 0.75991055 0.7584875  0.76621264 0.75462492 0.76316324\n",
      " 0.79670665 0.80585485 0.7889815  0.78003659 0.73978451 0.73002643\n",
      " 0.73490547 0.74872942 0.75991055 0.75462492 0.75401504 0.76174019\n",
      " 0.7737345  0.82008538 0.80585485 0.81154706 0.77434438 0.78633869\n",
      " 0.79284407 0.78328929 0.77109169 0.74385038 0.71193332 0.68733482\n",
      " 0.67818662 0.65257166 0.64301687 0.65643423 0.67656028 0.67371417\n",
      " 0.65114861 0.65521447 0.66761537 0.67838992 0.69993901 0.63122586\n",
      " 0.63508843 0.64098394 0.64545639 0.64118723 0.63854442 0.63081927\n",
      " 0.62472047 0.6330555  0.64728603 0.6574507  0.66761537 0.66720878\n",
      " 0.64159382 0.62776987 0.63651149 0.63630819 0.62980281 0.62817646\n",
      " 0.63813783 0.65358813 0.63183574 0.57653995 0.57816629 0.57613336\n",
      " 0.61943484 0.57979264 0.57288067 0.62573694 0.63102257 0.6361049\n",
      " 0.62776987 0.6269567  0.63590161 0.62594023 0.6391543  0.62614353\n",
      " 0.62268754 0.61633396 0.60200071 0.59012157 0.58145791 0.57438916\n",
      " 0.56804675 0.5621047  0.55643499 0.55100787 0.54583108 0.54091585\n",
      " 0.53616858 0.53141874 0.52671093 0.52212894 0.51772195 0.51350945\n",
      " 0.50949275 0.5056628  0.5020082  0.49843878]\n",
      "21 day output [[0.4949311]]\n",
      "22 day input [0.75991055 0.7584875  0.76621264 0.75462492 0.76316324 0.79670665\n",
      " 0.80585485 0.7889815  0.78003659 0.73978451 0.73002643 0.73490547\n",
      " 0.74872942 0.75991055 0.75462492 0.75401504 0.76174019 0.7737345\n",
      " 0.82008538 0.80585485 0.81154706 0.77434438 0.78633869 0.79284407\n",
      " 0.78328929 0.77109169 0.74385038 0.71193332 0.68733482 0.67818662\n",
      " 0.65257166 0.64301687 0.65643423 0.67656028 0.67371417 0.65114861\n",
      " 0.65521447 0.66761537 0.67838992 0.69993901 0.63122586 0.63508843\n",
      " 0.64098394 0.64545639 0.64118723 0.63854442 0.63081927 0.62472047\n",
      " 0.6330555  0.64728603 0.6574507  0.66761537 0.66720878 0.64159382\n",
      " 0.62776987 0.63651149 0.63630819 0.62980281 0.62817646 0.63813783\n",
      " 0.65358813 0.63183574 0.57653995 0.57816629 0.57613336 0.61943484\n",
      " 0.57979264 0.57288067 0.62573694 0.63102257 0.6361049  0.62776987\n",
      " 0.6269567  0.63590161 0.62594023 0.6391543  0.62614353 0.62268754\n",
      " 0.61633396 0.60200071 0.59012157 0.58145791 0.57438916 0.56804675\n",
      " 0.5621047  0.55643499 0.55100787 0.54583108 0.54091585 0.53616858\n",
      " 0.53141874 0.52671093 0.52212894 0.51772195 0.51350945 0.50949275\n",
      " 0.5056628  0.5020082  0.49843878 0.4949311 ]\n",
      "22 day output [[0.4915255]]\n",
      "23 day input [0.7584875  0.76621264 0.75462492 0.76316324 0.79670665 0.80585485\n",
      " 0.7889815  0.78003659 0.73978451 0.73002643 0.73490547 0.74872942\n",
      " 0.75991055 0.75462492 0.75401504 0.76174019 0.7737345  0.82008538\n",
      " 0.80585485 0.81154706 0.77434438 0.78633869 0.79284407 0.78328929\n",
      " 0.77109169 0.74385038 0.71193332 0.68733482 0.67818662 0.65257166\n",
      " 0.64301687 0.65643423 0.67656028 0.67371417 0.65114861 0.65521447\n",
      " 0.66761537 0.67838992 0.69993901 0.63122586 0.63508843 0.64098394\n",
      " 0.64545639 0.64118723 0.63854442 0.63081927 0.62472047 0.6330555\n",
      " 0.64728603 0.6574507  0.66761537 0.66720878 0.64159382 0.62776987\n",
      " 0.63651149 0.63630819 0.62980281 0.62817646 0.63813783 0.65358813\n",
      " 0.63183574 0.57653995 0.57816629 0.57613336 0.61943484 0.57979264\n",
      " 0.57288067 0.62573694 0.63102257 0.6361049  0.62776987 0.6269567\n",
      " 0.63590161 0.62594023 0.6391543  0.62614353 0.62268754 0.61633396\n",
      " 0.60200071 0.59012157 0.58145791 0.57438916 0.56804675 0.5621047\n",
      " 0.55643499 0.55100787 0.54583108 0.54091585 0.53616858 0.53141874\n",
      " 0.52671093 0.52212894 0.51772195 0.51350945 0.50949275 0.5056628\n",
      " 0.5020082  0.49843878 0.4949311  0.4915255 ]\n",
      "23 day output [[0.48825362]]\n",
      "24 day input [0.76621264 0.75462492 0.76316324 0.79670665 0.80585485 0.7889815\n",
      " 0.78003659 0.73978451 0.73002643 0.73490547 0.74872942 0.75991055\n",
      " 0.75462492 0.75401504 0.76174019 0.7737345  0.82008538 0.80585485\n",
      " 0.81154706 0.77434438 0.78633869 0.79284407 0.78328929 0.77109169\n",
      " 0.74385038 0.71193332 0.68733482 0.67818662 0.65257166 0.64301687\n",
      " 0.65643423 0.67656028 0.67371417 0.65114861 0.65521447 0.66761537\n",
      " 0.67838992 0.69993901 0.63122586 0.63508843 0.64098394 0.64545639\n",
      " 0.64118723 0.63854442 0.63081927 0.62472047 0.6330555  0.64728603\n",
      " 0.6574507  0.66761537 0.66720878 0.64159382 0.62776987 0.63651149\n",
      " 0.63630819 0.62980281 0.62817646 0.63813783 0.65358813 0.63183574\n",
      " 0.57653995 0.57816629 0.57613336 0.61943484 0.57979264 0.57288067\n",
      " 0.62573694 0.63102257 0.6361049  0.62776987 0.6269567  0.63590161\n",
      " 0.62594023 0.6391543  0.62614353 0.62268754 0.61633396 0.60200071\n",
      " 0.59012157 0.58145791 0.57438916 0.56804675 0.5621047  0.55643499\n",
      " 0.55100787 0.54583108 0.54091585 0.53616858 0.53141874 0.52671093\n",
      " 0.52212894 0.51772195 0.51350945 0.50949275 0.5056628  0.5020082\n",
      " 0.49843878 0.4949311  0.4915255  0.48825362]\n"
     ]
    },
    {
     "name": "stdout",
     "output_type": "stream",
     "text": [
      "24 day output [[0.48512694]]\n",
      "25 day input [0.75462492 0.76316324 0.79670665 0.80585485 0.7889815  0.78003659\n",
      " 0.73978451 0.73002643 0.73490547 0.74872942 0.75991055 0.75462492\n",
      " 0.75401504 0.76174019 0.7737345  0.82008538 0.80585485 0.81154706\n",
      " 0.77434438 0.78633869 0.79284407 0.78328929 0.77109169 0.74385038\n",
      " 0.71193332 0.68733482 0.67818662 0.65257166 0.64301687 0.65643423\n",
      " 0.67656028 0.67371417 0.65114861 0.65521447 0.66761537 0.67838992\n",
      " 0.69993901 0.63122586 0.63508843 0.64098394 0.64545639 0.64118723\n",
      " 0.63854442 0.63081927 0.62472047 0.6330555  0.64728603 0.6574507\n",
      " 0.66761537 0.66720878 0.64159382 0.62776987 0.63651149 0.63630819\n",
      " 0.62980281 0.62817646 0.63813783 0.65358813 0.63183574 0.57653995\n",
      " 0.57816629 0.57613336 0.61943484 0.57979264 0.57288067 0.62573694\n",
      " 0.63102257 0.6361049  0.62776987 0.6269567  0.63590161 0.62594023\n",
      " 0.6391543  0.62614353 0.62268754 0.61633396 0.60200071 0.59012157\n",
      " 0.58145791 0.57438916 0.56804675 0.5621047  0.55643499 0.55100787\n",
      " 0.54583108 0.54091585 0.53616858 0.53141874 0.52671093 0.52212894\n",
      " 0.51772195 0.51350945 0.50949275 0.5056628  0.5020082  0.49843878\n",
      " 0.4949311  0.4915255  0.48825362 0.48512694]\n",
      "25 day output [[0.48214346]]\n",
      "26 day input [0.76316324 0.79670665 0.80585485 0.7889815  0.78003659 0.73978451\n",
      " 0.73002643 0.73490547 0.74872942 0.75991055 0.75462492 0.75401504\n",
      " 0.76174019 0.7737345  0.82008538 0.80585485 0.81154706 0.77434438\n",
      " 0.78633869 0.79284407 0.78328929 0.77109169 0.74385038 0.71193332\n",
      " 0.68733482 0.67818662 0.65257166 0.64301687 0.65643423 0.67656028\n",
      " 0.67371417 0.65114861 0.65521447 0.66761537 0.67838992 0.69993901\n",
      " 0.63122586 0.63508843 0.64098394 0.64545639 0.64118723 0.63854442\n",
      " 0.63081927 0.62472047 0.6330555  0.64728603 0.6574507  0.66761537\n",
      " 0.66720878 0.64159382 0.62776987 0.63651149 0.63630819 0.62980281\n",
      " 0.62817646 0.63813783 0.65358813 0.63183574 0.57653995 0.57816629\n",
      " 0.57613336 0.61943484 0.57979264 0.57288067 0.62573694 0.63102257\n",
      " 0.6361049  0.62776987 0.6269567  0.63590161 0.62594023 0.6391543\n",
      " 0.62614353 0.62268754 0.61633396 0.60200071 0.59012157 0.58145791\n",
      " 0.57438916 0.56804675 0.5621047  0.55643499 0.55100787 0.54583108\n",
      " 0.54091585 0.53616858 0.53141874 0.52671093 0.52212894 0.51772195\n",
      " 0.51350945 0.50949275 0.5056628  0.5020082  0.49843878 0.4949311\n",
      " 0.4915255  0.48825362 0.48512694 0.48214346]\n",
      "26 day output [[0.47929475]]\n",
      "27 day input [0.79670665 0.80585485 0.7889815  0.78003659 0.73978451 0.73002643\n",
      " 0.73490547 0.74872942 0.75991055 0.75462492 0.75401504 0.76174019\n",
      " 0.7737345  0.82008538 0.80585485 0.81154706 0.77434438 0.78633869\n",
      " 0.79284407 0.78328929 0.77109169 0.74385038 0.71193332 0.68733482\n",
      " 0.67818662 0.65257166 0.64301687 0.65643423 0.67656028 0.67371417\n",
      " 0.65114861 0.65521447 0.66761537 0.67838992 0.69993901 0.63122586\n",
      " 0.63508843 0.64098394 0.64545639 0.64118723 0.63854442 0.63081927\n",
      " 0.62472047 0.6330555  0.64728603 0.6574507  0.66761537 0.66720878\n",
      " 0.64159382 0.62776987 0.63651149 0.63630819 0.62980281 0.62817646\n",
      " 0.63813783 0.65358813 0.63183574 0.57653995 0.57816629 0.57613336\n",
      " 0.61943484 0.57979264 0.57288067 0.62573694 0.63102257 0.6361049\n",
      " 0.62776987 0.6269567  0.63590161 0.62594023 0.6391543  0.62614353\n",
      " 0.62268754 0.61633396 0.60200071 0.59012157 0.58145791 0.57438916\n",
      " 0.56804675 0.5621047  0.55643499 0.55100787 0.54583108 0.54091585\n",
      " 0.53616858 0.53141874 0.52671093 0.52212894 0.51772195 0.51350945\n",
      " 0.50949275 0.5056628  0.5020082  0.49843878 0.4949311  0.4915255\n",
      " 0.48825362 0.48512694 0.48214346 0.47929475]\n",
      "27 day output [[0.47657132]]\n",
      "[[0.6163339614868164], [0.6020007133483887], [0.5901215672492981], [0.5814579129219055], [0.5743891596794128], [0.5680467486381531], [0.5621047019958496], [0.5564349889755249], [0.551007866859436], [0.5458310842514038], [0.540915846824646], [0.5361685752868652], [0.5314187407493591], [0.5267109274864197], [0.5221289396286011], [0.517721951007843], [0.5135094523429871], [0.5094927549362183], [0.5056627988815308], [0.5020081996917725], [0.4984387755393982], [0.49493110179901123], [0.4915255010128021], [0.4882536232471466], [0.48512694239616394], [0.48214346170425415], [0.4792947471141815], [0.47657132148742676]]\n"
     ]
    }
   ],
   "source": [
    "temp_input = list(x_input)\n",
    "temp_input = temp_input[0].tolist()\n",
    "\n",
    "lst_output = []\n",
    "n_steps = 100\n",
    "nextNumberOfDays = 28\n",
    "i = 0\n",
    "\n",
    "while(i < 28):\n",
    "\n",
    "    if(len(temp_input) > 100):\n",
    "        x_input = np.array(temp_input[1:])\n",
    "        print(\"{} day input {}\".format(i,x_input))\n",
    "        x_input = x_input.reshape(1,-1)\n",
    "        x_input = x_input.reshape((1, n_steps, 1))\n",
    "        yhat = lstm.predict(x_input, verbose=0)\n",
    "        print(\"{} day output {}\".format(i,yhat))\n",
    "        temp_input.extend(yhat[0].tolist())\n",
    "        temp_input = temp_input[1:]\n",
    "        lst_output.extend(yhat.tolist())\n",
    "        i = i+1\n",
    "    \n",
    "    else:\n",
    "        x_input = x_input.reshape((1, n_steps,1))\n",
    "        yhat = lstm.predict(x_input, verbose=0)\n",
    "        print(yhat[0])\n",
    "        temp_input.extend(yhat[0].tolist())\n",
    "        print(len(temp_input))\n",
    "        lst_output.extend(yhat.tolist())\n",
    "        i=i+1\n",
    "    \n",
    "\n",
    "print(lst_output)"
   ]
  },
  {
   "cell_type": "code",
   "execution_count": 32,
   "id": "741a1056",
   "metadata": {},
   "outputs": [],
   "source": [
    "day_new = np.arange(1,101)\n",
    "day_pred = np.arange(101,129)"
   ]
  },
  {
   "cell_type": "code",
   "execution_count": 33,
   "id": "8540eaae",
   "metadata": {},
   "outputs": [
    {
     "name": "stdout",
     "output_type": "stream",
     "text": [
      "Day-new shape: (100,) \n",
      "Day-pred shape: (28,)\n"
     ]
    }
   ],
   "source": [
    "print(\"Day-new shape:\",day_new.shape,\"\\nDay-pred shape:\",day_pred.shape)\n"
   ]
  },
  {
   "cell_type": "code",
   "execution_count": 34,
   "id": "70fa67a3",
   "metadata": {},
   "outputs": [
    {
     "data": {
      "text/plain": [
       "2035"
      ]
     },
     "execution_count": 34,
     "metadata": {},
     "output_type": "execute_result"
    }
   ],
   "source": [
    "ds_new = ds_high.tolist()\n",
    "ds_new.extend(lst_output)\n",
    "\n",
    "len(ds_high)\n"
   ]
  },
  {
   "cell_type": "code",
   "execution_count": 35,
   "id": "4f382330",
   "metadata": {},
   "outputs": [
    {
     "data": {
      "text/plain": [
       "2035"
      ]
     },
     "execution_count": 35,
     "metadata": {},
     "output_type": "execute_result"
    }
   ],
   "source": [
    "ds_new = ds_high.tolist()\n",
    "ds_new.extend(lst_output)\n",
    "\n",
    "len(ds_high)"
   ]
  },
  {
   "cell_type": "code",
   "execution_count": 36,
   "id": "cca371b2",
   "metadata": {},
   "outputs": [
    {
     "data": {
      "image/png": "[encoded data removed]",
      "text/plain": [
       "<Figure size 640x480 with 1 Axes>"
      ]
     },
     "metadata": {},
     "output_type": "display_data"
    }
   ],
   "source": [
    "plt.plot(day_new,sc.inverse_transform(ds_high[1935:]),'b')\n",
    "plt.plot(day_pred,sc.inverse_transform(lst_output),'r')\n",
    "plt.show()"
   ]
  },
  {
   "cell_type": "code",
   "execution_count": 37,
   "id": "9b2e873f",
   "metadata": {},
   "outputs": [
    {
     "data": {
      "image/png": "[encoded data removed]",
      "text/plain": [
       "<Figure size 640x480 with 1 Axes>"
      ]
     },
     "metadata": {},
     "output_type": "display_data"
    }
   ],
   "source": [
    "ds_new = ds_high.tolist()\n",
    "ds_new.extend(lst_output)\n",
    "plt.plot(ds_new[2000:],'r')\n",
    "plt.show()"
   ]
  },
  {
   "cell_type": "code",
   "execution_count": 38,
   "id": "21c0fe89",
   "metadata": {},
   "outputs": [],
   "source": [
    "ds_new = sc.inverse_transform(ds_new).tolist()"
   ]
  },
  {
   "cell_type": "code",
   "execution_count": 39,
   "id": "f9d6db27",
   "metadata": {},
   "outputs": [
    {
     "data": {
      "image/png": "[encoded data removed]",
      "text/plain": [
       "<Figure size 640x480 with 1 Axes>"
      ]
     },
     "metadata": {},
     "output_type": "display_data"
    }
   ],
   "source": [
    "plt.plot(ds_new)\n",
    "plt.show()\n"
   ]
  },
  {
   "cell_type": "markdown",
   "id": "f9331c37",
   "metadata": {},
   "source": [
    "## THANK YOU :))"
   ]
  }
 ],
 "metadata": {
  "kernelspec": {
   "display_name": "Python 3.10.6 64-bit",
   "language": "python",
   "name": "python3"
  },
  "language_info": {
   "codemirror_mode": {
    "name": "ipython",
    "version": 3
   },
   "file_extension": ".py",
   "mimetype": "text/x-python",
   "name": "python",
   "nbconvert_exporter": "python",
   "pygments_lexer": "ipython3",
   "version": "3.10.6"
  },
  "vscode": {
   "interpreter": {
    "hash": "6eddc6147c4fc15109ca201454b958ba54dd295ec3586f4703aa9f008549f358"
   }
  }
 },
 "nbformat": 4,
 "nbformat_minor": 5
}
